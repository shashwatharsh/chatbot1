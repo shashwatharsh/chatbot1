{
  "nbformat": 4,
  "nbformat_minor": 0,
  "metadata": {
    "colab": {
      "provenance": [],
      "authorship_tag": "ABX9TyNuj1+5rJOPUxBTVEPEvs4O",
      "include_colab_link": true
    },
    "kernelspec": {
      "name": "python3",
      "display_name": "Python 3"
    },
    "language_info": {
      "name": "python"
    }
  },
  "cells": [
    {
      "cell_type": "markdown",
      "metadata": {
        "id": "view-in-github",
        "colab_type": "text"
      },
      "source": [
        "<a href=\"https://colab.research.google.com/github/shashwatharsh/AptMngDsvv/blob/main/Chat_Bot.ipynb\" target=\"_parent\"><img src=\"https://colab.research.google.com/assets/colab-badge.svg\" alt=\"Open In Colab\"/></a>"
      ]
    },
    {
      "cell_type": "code",
      "execution_count": null,
      "metadata": {
        "id": "Worm-IcSKKvG"
      },
      "outputs": [],
      "source": [
        "import random"
      ]
    },
    {
      "cell_type": "code",
      "source": [
        "# Define a list of greetings\n",
        "greetings = [\"Hello!\", \"Hi there!\", \"Welcome!\", \"Greetings!\"]\n"
      ],
      "metadata": {
        "id": "fr2GBsDAOR50"
      },
      "execution_count": null,
      "outputs": []
    },
    {
      "cell_type": "code",
      "source": [
        "# Define a list of common questions \n",
        "common_questions = [\n",
        "  \"What is your name?\",\n",
        "  \"How can I help you today?\",\n",
        "  \"What symptoms are you experiencing?\",\n",
        "  \"Do you have any allergies?\",\n",
        "  \"Are you currently taking any medications?\",\n",
        "]\n",
        "\n"
      ],
      "metadata": {
        "id": "MeXgff2YOVcX"
      },
      "execution_count": null,
      "outputs": []
    },
    {
      "cell_type": "code",
      "source": [
        "# Define a list of responses \n",
        "responses = [\n",
        "  \"I'm sorry, I'm just a chatbot and cannot provide medical advice. It's best to consult with a healthcare professional.\", \"Please consult with a doctor for proper diagnosis and treatment.\",\n",
        "  \"It's important to seek medical attention for your condition.\",\n",
        "  \"I recommend reaching out to a healthcare professional to discuss your concerns.\",\n",
        "]\n"
      ],
      "metadata": {
        "id": "jdnLZJOHOceO"
      },
      "execution_count": null,
      "outputs": []
    },
    {
      "cell_type": "code",
      "source": [
        "# Function to generate a random greeting \n",
        "def get_random_greeting():\n",
        "  return random.choice(greetings)\n"
      ],
      "metadata": {
        "id": "7XUTO-DzOj3j"
      },
      "execution_count": null,
      "outputs": []
    },
    {
      "cell_type": "code",
      "source": [
        "# Function to respond to user input \n",
        "def respond(user_input):\n",
        "  if user_input.endswith(\"?\"): \n",
        "      return random.choice(responses)\n",
        "  else:\n",
        "    return random.choice(common_questions)"
      ],
      "metadata": {
        "id": "myWBRgyrOur8"
      },
      "execution_count": null,
      "outputs": []
    },
    {
      "cell_type": "code",
      "source": [
        "# Main chat loop \n",
        "def chat():\n",
        "  print(get_random_greeting())\n",
        "  while True:\n",
        "    user_input = input(\">\")\n",
        "    if user_input.lower() == \"exit\":\n",
        "      break \n",
        "      \n",
        "    print(respond(user_input))\n"
      ],
      "metadata": {
        "id": "Vkbt2VsFO2I4"
      },
      "execution_count": null,
      "outputs": []
    },
    {
      "cell_type": "code",
      "source": [
        "chat()"
      ],
      "metadata": {
        "colab": {
          "base_uri": "https://localhost:8080/",
          "height": 169
        },
        "id": "IdCaBtrQPC_n",
        "outputId": "4f5bd0ac-2b90-415a-ad33-cb01da9fb6e1"
      },
      "execution_count": null,
      "outputs": [
        {
          "output_type": "error",
          "ename": "NameError",
          "evalue": "ignored",
          "traceback": [
            "\u001b[0;31m---------------------------------------------------------------------------\u001b[0m",
            "\u001b[0;31mNameError\u001b[0m                                 Traceback (most recent call last)",
            "\u001b[0;32m<ipython-input-1-e57ee30c65ef>\u001b[0m in \u001b[0;36m<cell line: 1>\u001b[0;34m()\u001b[0m\n\u001b[0;32m----> 1\u001b[0;31m \u001b[0mchat\u001b[0m\u001b[0;34m(\u001b[0m\u001b[0;34m)\u001b[0m\u001b[0;34m\u001b[0m\u001b[0;34m\u001b[0m\u001b[0m\n\u001b[0m",
            "\u001b[0;31mNameError\u001b[0m: name 'chat' is not defined"
          ]
        }
      ]
    }
  ]
}